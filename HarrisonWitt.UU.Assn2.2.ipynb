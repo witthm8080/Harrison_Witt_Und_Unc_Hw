{
 "cells": [
  {
   "cell_type": "markdown",
   "id": "87b91d83",
   "metadata": {},
   "source": [
    "# Assignment 2\n",
    "### Understanding Uncertainty\n",
    "### Harrison Witt"
   ]
  },
  {
   "cell_type": "markdown",
   "id": "380e339f",
   "metadata": {},
   "source": [
    "1. 'State Bottle Retail' is the price at which the bottle is sold, while 'State Bottle Cost' is the price the state pays for a bottle.\n",
    "- How do you define the most profitable item? Why? Explain your thinking.\n",
    "- Use `.groupby` calculations to determine the most profitable liquors sold in Iowa.\n",
    "- Make a plot of the top liquors."
   ]
  },
  {
   "cell_type": "code",
   "execution_count": 1,
   "id": "357ae69c",
   "metadata": {},
   "outputs": [
    {
     "data": {
      "application/vnd.microsoft.datawrangler.viewer.v0+json": {
       "columns": [
        {
         "name": "index",
         "rawType": "int64",
         "type": "integer"
        },
        {
         "name": "Invoice/Item Number",
         "rawType": "object",
         "type": "string"
        },
        {
         "name": "Date",
         "rawType": "object",
         "type": "string"
        },
        {
         "name": "Store Number",
         "rawType": "int64",
         "type": "integer"
        },
        {
         "name": "Store Name",
         "rawType": "object",
         "type": "string"
        },
        {
         "name": "Zip Code",
         "rawType": "object",
         "type": "string"
        },
        {
         "name": "Category Name",
         "rawType": "object",
         "type": "string"
        },
        {
         "name": "Vendor Name",
         "rawType": "object",
         "type": "string"
        },
        {
         "name": "Item Number",
         "rawType": "int64",
         "type": "integer"
        },
        {
         "name": "Item Description",
         "rawType": "object",
         "type": "string"
        },
        {
         "name": "Bottle Volume (ml)",
         "rawType": "int64",
         "type": "integer"
        },
        {
         "name": "State Bottle Cost",
         "rawType": "float64",
         "type": "float"
        },
        {
         "name": "State Bottle Retail",
         "rawType": "float64",
         "type": "float"
        },
        {
         "name": "Bottles Sold",
         "rawType": "int64",
         "type": "integer"
        },
        {
         "name": "Sale (Dollars)",
         "rawType": "float64",
         "type": "float"
        }
       ],
       "ref": "4b1a52b6-c407-4260-a4c7-106f31ce8293",
       "rows": [
        [
         "0",
         "INV-59108400026",
         "06/06/2023",
         "3723",
         "J D SPIRITS LIQUOR",
         "51040",
         "STRAIGHT RYE WHISKIES",
         "INFINIUM SPIRITS",
         "27102",
         "TEMPLETON RYE 4YR",
         "750",
         "18.09",
         "27.14",
         "2",
         "54.28"
        ],
        [
         "1",
         "S16879800057",
         "01/16/2014",
         "3926",
         "LIQUOR DOWNTOWN / IOWA CITY",
         "52240",
         "VODKA 80 PROOF",
         "HEAVEN HILL BRANDS",
         "35416",
         "BURNETT'S VODKA 80 PRF",
         "750",
         "4.84",
         "7.26",
         "12",
         "87.12"
        ],
        [
         "2",
         "INV-05301100019",
         "06/05/2017",
         "3829",
         "GARY'S FOODS / MT VERNON",
         "52314",
         "CANADIAN WHISKIES",
         "DIAGEO AMERICAS",
         "11296",
         "CROWN ROYAL",
         "750",
         "15.59",
         "23.39",
         "6",
         "135.66"
        ],
        [
         "3",
         "INV-40973500083",
         "10/14/2021",
         "5102",
         "WILKIE LIQUORS",
         "52314",
         "AMERICAN SCHNAPPS",
         "JIM BEAM BRANDS",
         "82787",
         "DEKUYPER BUTTERSHOTS",
         "1000",
         "7.87",
         "11.81",
         "12",
         "141.72"
        ],
        [
         "4",
         "INV-17022500013",
         "01/18/2019",
         "2560",
         "HY-VEE FOOD STORE / MARION",
         "52302",
         "WHISKEY LIQUEUR",
         "SAZERAC COMPANY  INC",
         "64863",
         "FIREBALL CINNAMON WHISKEY",
         "200",
         "2.5",
         "3.75",
         "12",
         "45.0"
        ]
       ],
       "shape": {
        "columns": 14,
        "rows": 5
       }
      },
      "text/html": [
       "<div>\n",
       "<style scoped>\n",
       "    .dataframe tbody tr th:only-of-type {\n",
       "        vertical-align: middle;\n",
       "    }\n",
       "\n",
       "    .dataframe tbody tr th {\n",
       "        vertical-align: top;\n",
       "    }\n",
       "\n",
       "    .dataframe thead th {\n",
       "        text-align: right;\n",
       "    }\n",
       "</style>\n",
       "<table border=\"1\" class=\"dataframe\">\n",
       "  <thead>\n",
       "    <tr style=\"text-align: right;\">\n",
       "      <th></th>\n",
       "      <th>Invoice/Item Number</th>\n",
       "      <th>Date</th>\n",
       "      <th>Store Number</th>\n",
       "      <th>Store Name</th>\n",
       "      <th>Zip Code</th>\n",
       "      <th>Category Name</th>\n",
       "      <th>Vendor Name</th>\n",
       "      <th>Item Number</th>\n",
       "      <th>Item Description</th>\n",
       "      <th>Bottle Volume (ml)</th>\n",
       "      <th>State Bottle Cost</th>\n",
       "      <th>State Bottle Retail</th>\n",
       "      <th>Bottles Sold</th>\n",
       "      <th>Sale (Dollars)</th>\n",
       "    </tr>\n",
       "  </thead>\n",
       "  <tbody>\n",
       "    <tr>\n",
       "      <th>0</th>\n",
       "      <td>INV-59108400026</td>\n",
       "      <td>06/06/2023</td>\n",
       "      <td>3723</td>\n",
       "      <td>J D SPIRITS LIQUOR</td>\n",
       "      <td>51040</td>\n",
       "      <td>STRAIGHT RYE WHISKIES</td>\n",
       "      <td>INFINIUM SPIRITS</td>\n",
       "      <td>27102</td>\n",
       "      <td>TEMPLETON RYE 4YR</td>\n",
       "      <td>750</td>\n",
       "      <td>18.09</td>\n",
       "      <td>27.14</td>\n",
       "      <td>2</td>\n",
       "      <td>54.28</td>\n",
       "    </tr>\n",
       "    <tr>\n",
       "      <th>1</th>\n",
       "      <td>S16879800057</td>\n",
       "      <td>01/16/2014</td>\n",
       "      <td>3926</td>\n",
       "      <td>LIQUOR DOWNTOWN / IOWA CITY</td>\n",
       "      <td>52240</td>\n",
       "      <td>VODKA 80 PROOF</td>\n",
       "      <td>HEAVEN HILL BRANDS</td>\n",
       "      <td>35416</td>\n",
       "      <td>BURNETT'S VODKA 80 PRF</td>\n",
       "      <td>750</td>\n",
       "      <td>4.84</td>\n",
       "      <td>7.26</td>\n",
       "      <td>12</td>\n",
       "      <td>87.12</td>\n",
       "    </tr>\n",
       "    <tr>\n",
       "      <th>2</th>\n",
       "      <td>INV-05301100019</td>\n",
       "      <td>06/05/2017</td>\n",
       "      <td>3829</td>\n",
       "      <td>GARY'S FOODS / MT VERNON</td>\n",
       "      <td>52314</td>\n",
       "      <td>CANADIAN WHISKIES</td>\n",
       "      <td>DIAGEO AMERICAS</td>\n",
       "      <td>11296</td>\n",
       "      <td>CROWN ROYAL</td>\n",
       "      <td>750</td>\n",
       "      <td>15.59</td>\n",
       "      <td>23.39</td>\n",
       "      <td>6</td>\n",
       "      <td>135.66</td>\n",
       "    </tr>\n",
       "    <tr>\n",
       "      <th>3</th>\n",
       "      <td>INV-40973500083</td>\n",
       "      <td>10/14/2021</td>\n",
       "      <td>5102</td>\n",
       "      <td>WILKIE LIQUORS</td>\n",
       "      <td>52314</td>\n",
       "      <td>AMERICAN SCHNAPPS</td>\n",
       "      <td>JIM BEAM BRANDS</td>\n",
       "      <td>82787</td>\n",
       "      <td>DEKUYPER BUTTERSHOTS</td>\n",
       "      <td>1000</td>\n",
       "      <td>7.87</td>\n",
       "      <td>11.81</td>\n",
       "      <td>12</td>\n",
       "      <td>141.72</td>\n",
       "    </tr>\n",
       "    <tr>\n",
       "      <th>4</th>\n",
       "      <td>INV-17022500013</td>\n",
       "      <td>01/18/2019</td>\n",
       "      <td>2560</td>\n",
       "      <td>HY-VEE FOOD STORE / MARION</td>\n",
       "      <td>52302</td>\n",
       "      <td>WHISKEY LIQUEUR</td>\n",
       "      <td>SAZERAC COMPANY  INC</td>\n",
       "      <td>64863</td>\n",
       "      <td>FIREBALL CINNAMON WHISKEY</td>\n",
       "      <td>200</td>\n",
       "      <td>2.50</td>\n",
       "      <td>3.75</td>\n",
       "      <td>12</td>\n",
       "      <td>45.00</td>\n",
       "    </tr>\n",
       "  </tbody>\n",
       "</table>\n",
       "</div>"
      ],
      "text/plain": [
       "  Invoice/Item Number        Date  Store Number                   Store Name  \\\n",
       "0     INV-59108400026  06/06/2023          3723           J D SPIRITS LIQUOR   \n",
       "1        S16879800057  01/16/2014          3926  LIQUOR DOWNTOWN / IOWA CITY   \n",
       "2     INV-05301100019  06/05/2017          3829     GARY'S FOODS / MT VERNON   \n",
       "3     INV-40973500083  10/14/2021          5102               WILKIE LIQUORS   \n",
       "4     INV-17022500013  01/18/2019          2560   HY-VEE FOOD STORE / MARION   \n",
       "\n",
       "  Zip Code          Category Name           Vendor Name  Item Number  \\\n",
       "0    51040  STRAIGHT RYE WHISKIES      INFINIUM SPIRITS        27102   \n",
       "1    52240         VODKA 80 PROOF    HEAVEN HILL BRANDS        35416   \n",
       "2    52314      CANADIAN WHISKIES       DIAGEO AMERICAS        11296   \n",
       "3    52314      AMERICAN SCHNAPPS       JIM BEAM BRANDS        82787   \n",
       "4    52302        WHISKEY LIQUEUR  SAZERAC COMPANY  INC        64863   \n",
       "\n",
       "            Item Description  Bottle Volume (ml)  State Bottle Cost  \\\n",
       "0          TEMPLETON RYE 4YR                 750              18.09   \n",
       "1     BURNETT'S VODKA 80 PRF                 750               4.84   \n",
       "2                CROWN ROYAL                 750              15.59   \n",
       "3       DEKUYPER BUTTERSHOTS                1000               7.87   \n",
       "4  FIREBALL CINNAMON WHISKEY                 200               2.50   \n",
       "\n",
       "   State Bottle Retail  Bottles Sold  Sale (Dollars)  \n",
       "0                27.14             2           54.28  \n",
       "1                 7.26            12           87.12  \n",
       "2                23.39             6          135.66  \n",
       "3                11.81            12          141.72  \n",
       "4                 3.75            12           45.00  "
      ]
     },
     "execution_count": 1,
     "metadata": {},
     "output_type": "execute_result"
    }
   ],
   "source": [
    "import pandas as pd\n",
    "import numpy as np\n",
    "import matplotlib.pyplot as plt\n",
    "\n",
    "iowa_liquor_prices = pd.read_csv(\"../data/iowa.csv\")\n",
    "iowa_liquor_prices.head()"
   ]
  },
  {
   "cell_type": "markdown",
   "id": "cdd52148",
   "metadata": {},
   "source": [
    "**In my opinion, the most profitable item is the one that makes the most money overall. This is not necessarily the type with the highest profit per unit. I will calculate this by taking 'State Bottle Retail' - 'State Bottle Cost', giving me the profit margin the state earns on each unit sale. Then I will multiply by the number of bottles sold to get total profit per type.**"
   ]
  },
  {
   "cell_type": "code",
   "execution_count": 2,
   "id": "23688b02",
   "metadata": {},
   "outputs": [
    {
     "data": {
      "image/png": "[encoded data removed]",
      "text/plain": [
       "<Figure size 1000x600 with 1 Axes>"
      ]
     },
     "metadata": {},
     "output_type": "display_data"
    }
   ],
   "source": [
    "iowa_liquor_prices[\"Profit per Bottle\"] = (\n",
    "    iowa_liquor_prices[\"State Bottle Retail\"] - iowa_liquor_prices[\"State Bottle Cost\"]\n",
    ")\n",
    "\n",
    "# Computing total profit\n",
    "iowa_liquor_prices[\"Total Profit\"] = (\n",
    "    iowa_liquor_prices[\"Profit per Bottle\"] * iowa_liquor_prices[\"Bottles Sold\"]\n",
    ")\n",
    "\n",
    "# Grouping by Item Description, Summing total Profti\n",
    "profit_by_item = (\n",
    "    iowa_liquor_prices.groupby(\"Item Description\")[\"Total Profit\"]\n",
    "    .sum()\n",
    "    .sort_values(ascending=False)\n",
    "    .head(10)\n",
    ")\n",
    "\n",
    "# Top 10 most profitable liquors\n",
    "plt.figure(figsize=(10, 6))\n",
    "profit_by_item.plot(kind=\"barh\", color=\"skyblue\")\n",
    "plt.title(\"Top 10 Most Profitable Liquors Sold in Iowa\")\n",
    "plt.xlabel(\"Total Profit ($)\")\n",
    "plt.gca().invert_yaxis()  # Most profitable at the top\n",
    "plt.tight_layout()\n",
    "plt.show()"
   ]
  },
  {
   "cell_type": "markdown",
   "id": "63593bde",
   "metadata": {},
   "source": [
    "2. This question is to further explore broadcasting in NumPy.\n",
    "\n",
    "- In the first code chunk below, there are two vectors, $x$ and $y$. What happens when you try to subtract them?\n",
    "- Instead, try `x.reshape(-1,1)-y.reshape(1,-1)`. What do you get?\n",
    "- Try `x.reshape(1,-1)-y.reshape(-1,1)`. Compare the results to your previous answer.\n",
    "- Write two double for-loops to replicate the results of the previous two answers. \n",
    "- Clearly explain how `x.reshape(1,-1)` and `x.reshape(-1,1)` change $x$"
   ]
  },
  {
   "cell_type": "code",
   "execution_count": 3,
   "id": "e29b3aac",
   "metadata": {},
   "outputs": [
    {
     "name": "stdout",
     "output_type": "stream",
     "text": [
      "[1 3 5]\n",
      "[2 5]\n"
     ]
    }
   ],
   "source": [
    "import numpy as np\n",
    "\n",
    "x = np.array([1,3,5])\n",
    "y = np.array([2,5])\n",
    "print(x)\n",
    "print(y)"
   ]
  },
  {
   "cell_type": "code",
   "execution_count": 4,
   "id": "a70f8fa4",
   "metadata": {},
   "outputs": [
    {
     "ename": "ValueError",
     "evalue": "operands could not be broadcast together with shapes (3,) (2,) ",
     "output_type": "error",
     "traceback": [
      "\u001b[31m---------------------------------------------------------------------------\u001b[39m",
      "\u001b[31mValueError\u001b[39m                                Traceback (most recent call last)",
      "\u001b[36mCell\u001b[39m\u001b[36m \u001b[39m\u001b[32mIn[4]\u001b[39m\u001b[32m, line 1\u001b[39m\n\u001b[32m----> \u001b[39m\u001b[32m1\u001b[39m z = \u001b[43mx\u001b[49m\u001b[43m \u001b[49m\u001b[43m-\u001b[49m\u001b[43m \u001b[49m\u001b[43my\u001b[49m\n\u001b[32m      2\u001b[39m \u001b[38;5;28mprint\u001b[39m(z)\n",
      "\u001b[31mValueError\u001b[39m: operands could not be broadcast together with shapes (3,) (2,) "
     ]
    }
   ],
   "source": [
    "z = x - y\n",
    "print(z)"
   ]
  },
  {
   "cell_type": "markdown",
   "id": "11b65686",
   "metadata": {},
   "source": [
    "**When I try to subtract y from x I get a ValueError because they are of different shape.**"
   ]
  },
  {
   "cell_type": "code",
   "execution_count": null,
   "id": "6940ae5f",
   "metadata": {},
   "outputs": [
    {
     "name": "stdout",
     "output_type": "stream",
     "text": [
      "[[-1 -4]\n",
      " [ 1 -2]\n",
      " [ 3  0]]\n"
     ]
    }
   ],
   "source": [
    "z2 = x.reshape(-1, 1) - y.reshape(1, -1)\n",
    "print(z2)"
   ]
  },
  {
   "cell_type": "markdown",
   "id": "ff3d9206",
   "metadata": {},
   "source": [
    "**After reshaping I get the correct result, a matrix of the difference between the two.** "
   ]
  },
  {
   "cell_type": "code",
   "execution_count": null,
   "id": "10026fbd",
   "metadata": {},
   "outputs": [
    {
     "name": "stdout",
     "output_type": "stream",
     "text": [
      "[[-1  1  3]\n",
      " [-4 -2  0]]\n"
     ]
    }
   ],
   "source": [
    "z3 = x.reshape(1, -1) - y.reshape(-1, 1)\n",
    "print(z3)"
   ]
  },
  {
   "cell_type": "markdown",
   "id": "fe2dc3bb",
   "metadata": {},
   "source": [
    "**This is an incorrect result, it was broadcasted wrong. The orientation is flipped from a 3x2 to a 2x3.**"
   ]
  },
  {
   "cell_type": "markdown",
   "id": "b0a89b05",
   "metadata": {},
   "source": [
    "**Below is the double for loop**"
   ]
  },
  {
   "cell_type": "code",
   "execution_count": null,
   "id": "d2bd3dc8",
   "metadata": {},
   "outputs": [
    {
     "name": "stdout",
     "output_type": "stream",
     "text": [
      "z2 (x - y, shape 3x2):\n",
      " [[-1 -4]\n",
      " [ 1 -2]\n",
      " [ 3  0]]\n",
      "\n",
      "z3 (x - y, shape 2x3, flipped):\n",
      " [[-1  1  3]\n",
      " [-4 -2  0]]\n"
     ]
    }
   ],
   "source": [
    "# Double for-loop 1\n",
    "# z2 = x.reshape(-1, 1) - y.reshape(1, -1)\n",
    "z2_manual = []\n",
    "for xi in x:\n",
    "    row = []\n",
    "    for yj in y:\n",
    "        row.append(xi - yj)\n",
    "    z2_manual.append(row)\n",
    "z2_manual = np.array(z2_manual)\n",
    "print(\"z2 (x - y, shape 3x2):\\n\", z2_manual)\n",
    "\n",
    "# Double for-loop 2\n",
    "# z3 = x.reshape(1, -1) - y.reshape(-1, 1)\n",
    "z3_manual = []\n",
    "for yi in y:\n",
    "    row = []\n",
    "    for xj in x:\n",
    "        row.append(xj - yi)\n",
    "    z3_manual.append(row)\n",
    "z3_manual = np.array(z3_manual)\n",
    "print(\"\\nz3 (x - y, shape 2x3, flipped):\\n\", z3_manual)\n"
   ]
  },
  {
   "cell_type": "markdown",
   "id": "0fddaa6a",
   "metadata": {},
   "source": [
    "**x.reshape(1, -1) changes the 1D array x into a row vector, so it becomes a 2D array with 1 row and as many columns as there are elements in x. x.reshape(-1, 1) does the oposite and transforms x into a column vector, which is a 2D array with one column and as many rows as elements in x. Both reshaped versions contain the same data but they change the orientation of x, affecting how broadcasting works in operations like subtraction, which is very important in my case bc row and column alignment for both variables determines the final shape of the subtracted result.**"
   ]
  },
  {
   "cell_type": "markdown",
   "id": "b29f1d35",
   "metadata": {},
   "source": [
    "3. The indicator function $\\mathbb{I}\\{ x \\le z \\}$ takes the value 0 if $x>z$ and 1 if $x \\le z$ is true, or\n",
    "$$\n",
    "\\mathbb{I}\\{x \\le z\\} = \\begin{cases}\n",
    "0, &x > z \\\\\n",
    "1, &x \\le z\n",
    "\\end{cases}\n",
    "$$\n",
    "\n",
    "- For $x = 3$, plot the indicator function for any $z$\n",
    "- Explain how $ 1- \\mathbb{I}\\{ x \\le z \\} = \\mathbb{I}\\{ x > z \\}$. Drawing a plot might help, or looking at the definition given above.\n",
    "- The code below generates a random sample for different numbers of observations, $N = 3, 30, 300, 3000 $. Write a function to compute the ECDF curve for each sample, and plot your results.\n",
    "- Describe in your own words what happens to the ECDF qualitatively as the sample size $N$ increases"
   ]
  },
  {
   "cell_type": "code",
   "execution_count": null,
   "id": "fc751ab7",
   "metadata": {},
   "outputs": [
    {
     "data": {
      "image/png": "[encoded data removed]",
      "text/plain": [
       "<Figure size 800x400 with 1 Axes>"
      ]
     },
     "metadata": {},
     "output_type": "display_data"
    }
   ],
   "source": [
    "# Plotting the indicator fn for any z when x = 3\n",
    "\n",
    "x = 3\n",
    "\n",
    "# any z values within reason\n",
    "z_values = np.linspace(0, 6, 100)\n",
    "\n",
    "# Indicator fn\n",
    "indicator_values = (x <= z_values).astype(int)\n",
    "\n",
    "# Plot instructions\n",
    "plt.figure(figsize=(8, 4))\n",
    "plt.plot(z_values, indicator_values, drawstyle=\"steps-post\", color='blue')\n",
    "plt.title(r\"Indicator Function $\\mathbb{I}\\{x \\leq z\\}$ for $x=3$\")\n",
    "plt.xlabel(\"z\")\n",
    "plt.ylabel(r\"$\\mathbb{I}\\{x \\leq z\\}$\")\n",
    "plt.ylim(-0.1, 1.1)\n",
    "plt.grid(True)\n",
    "plt.show()\n"
   ]
  },
  {
   "cell_type": "markdown",
   "id": "86b002d9",
   "metadata": {},
   "source": [
    "**Explaining how $ 1- \\mathbb{I}\\{ x \\le z \\} = \\mathbb{I}\\{ x > z \\}$:**\n",
    "\n",
    "**The expression $ 1- \\mathbb{I}\\{ x \\le z \\} $ is equivalent to $ \\mathbb{I}\\{ x > z \\}$ because the indicator function can only take values 0 or 1. If x is less than or equal to z, then $ \\mathbb{I}\\{ x \\le z \\}  = 1\\ $, so $ 1- \\mathbb{I}\\{ x \\le z \\} = 0\\ $, which is the same as $ \\mathbb{I}\\{ x > z \\} = 0\\ $. The opposite argument is true as well, if x is greater than z, then $ \\mathbb{I}\\{ x \\le z \\}  = 0\\ $, and $ 1- \\mathbb{I}\\{ x \\le z \\} = 1\\ $, which is the same as $ \\mathbb{I}\\{ x > z \\} = 1\\ $. In short, subtracting the indicator from 1 simply flips its output and captures the complementary situation.**\n"
   ]
  },
  {
   "cell_type": "code",
   "execution_count": null,
   "id": "17ad7d01",
   "metadata": {},
   "outputs": [
    {
     "data": {
      "image/png": "[encoded data removed]",
      "text/plain": [
       "<Figure size 1000x600 with 1 Axes>"
      ]
     },
     "metadata": {},
     "output_type": "display_data"
    }
   ],
   "source": [
    "import numpy as np\n",
    "import seaborn as sns\n",
    "import matplotlib.pyplot as plt\n",
    "\n",
    "plt.figure(figsize=(10, 6))\n",
    "\n",
    "rng = np.random.default_rng(100)\n",
    "\n",
    "for N in (3,30,300,3000):\n",
    "    X = rng.normal(0,1,N)\n",
    "    # ECDF plot goes here:\n",
    "\n",
    "    sns.ecdfplot(X, label=f\"N = {N}\")\n",
    "\n",
    "plt.title(\"Empirical CDFs for Different Sample Sizes\")\n",
    "plt.xlabel(\"Value\")\n",
    "plt.ylabel(\"ECDF\")\n",
    "plt.legend()\n",
    "plt.grid(True)\n",
    "plt.tight_layout()\n",
    "plt.show()"
   ]
  },
  {
   "cell_type": "markdown",
   "id": "29f80e54",
   "metadata": {},
   "source": [
    "**What happens to the ECDF qualitatively as the sample size $N$ increases?: It gets smoothed out. What I mean by this is that as the sample size \\(N\\) increases, the ECDF more closely resembles the true cdf of the underlying data distribution. With a small \\(N\\), the ECDF acts like a step-function, but as \\(N\\) grows, randomness and sampling variablility is reduced.**"
   ]
  },
  {
   "cell_type": "markdown",
   "id": "6c8f1ebb",
   "metadata": {},
   "source": [
    "4. A **quantile** generalizes the concept of the median so that instead of 50% of the mass below and 50% above, the $q$-quantile is the value for which $q$ proportion of the data are below that value and $(1-q)$ proportion of the data are above that value. This is a concept of **order**.\n",
    "\n",
    "- Write a function that computes any quantile without using Numpy's `np.quantile`\n",
    "- Write a function that computes the **Interquartile Range (IQR)** -- the .25 quantile and the .75 quantile, which brackets 50% of the data -- and the **whiskers**: $\\pm 1.5 \\times \\text{IQR}$ from the edges of the IQR\n",
    "- Write a function that computes a five-number summary and values for a boxplot: the minimum, the .25 quantile, the median, the .75 quantile, and the maximum, and the whiskers\n",
    "- Anything outside the whiskers is an **outlier**; write a function that returns a Boolean vector indicating if the observations are outliers.\n",
    "- For a numeric variable of your choice from one of the datasets, apply your functions from above, and compare your answers with `sns.boxplot` and `df.describe`. "
   ]
  },
  {
   "cell_type": "code",
   "execution_count": 5,
   "id": "4061c822",
   "metadata": {},
   "outputs": [],
   "source": [
    "# Fn that computes any quantile w/o np.quantile\n",
    "def my_quantile(series, q):\n",
    "    data_sorted = sorted(series.dropna())\n",
    "    n = len(data_sorted)\n",
    "    pos = q * (n - 1)\n",
    "    lower = int(pos)\n",
    "    upper = lower + 1\n",
    "    if upper >= n:\n",
    "        return data_sorted[lower]\n",
    "    return data_sorted[lower] + (pos - lower) * (data_sorted[upper] - data_sorted[lower])"
   ]
  },
  {
   "cell_type": "code",
   "execution_count": 6,
   "id": "9266c946",
   "metadata": {},
   "outputs": [],
   "source": [
    "# Fn for IQR and whiskers\n",
    "def iqr_and_whiskers(series):\n",
    "    q1 = my_quantile(series, 0.25)\n",
    "    q3 = my_quantile(series, 0.75)\n",
    "    iqr = q3 - q1\n",
    "    lower_whisker = q1 - 1.5 * iqr\n",
    "    upper_whisker = q3 + 1.5 * iqr\n",
    "    return {\"IQR\": iqr, \"Lower Whisker\": lower_whisker, \"Upper Whisker\": upper_whisker}"
   ]
  },
  {
   "cell_type": "code",
   "execution_count": 7,
   "id": "fec68446",
   "metadata": {},
   "outputs": [],
   "source": [
    "# Fn for 5-number summary and boxplot values\n",
    "def five_number_summary(series):\n",
    "    return {\n",
    "        \"Min\": series.min(),\n",
    "        \"Q1\": my_quantile(series, 0.25),\n",
    "        \"Median\": my_quantile(series, 0.5),\n",
    "        \"Q3\": my_quantile(series, 0.75),\n",
    "        \"Max\": series.max()\n",
    "    }"
   ]
  },
  {
   "cell_type": "code",
   "execution_count": 8,
   "id": "7bc4add1",
   "metadata": {},
   "outputs": [],
   "source": [
    "# Fn for outlier identification\n",
    "def identify_outliers(series):\n",
    "    whiskers = iqr_and_whiskers(series)\n",
    "    lower, upper = whiskers[\"Lower Whisker\"], whiskers[\"Upper Whisker\"]\n",
    "    return series.apply(lambda x: x < lower or x > upper)"
   ]
  },
  {
   "cell_type": "code",
   "execution_count": 11,
   "id": "74b1406a",
   "metadata": {},
   "outputs": [
    {
     "name": "stdout",
     "output_type": "stream",
     "text": [
      "Five number summary: {'Min': np.float64(-1628.4), 'Q1': 36.550000000000004, 'Median': 78.66, 'Q3': 152.88, 'Max': np.float64(36720.0)}\n",
      "IQR & whiskers: {'IQR': 116.32999999999998, 'Lower Whisker': -137.94499999999996, 'Upper Whisker': 327.375}\n",
      "Outliers (True = outlier):\n",
      "0    False\n",
      "1    False\n",
      "2    False\n",
      "3    False\n",
      "4    False\n",
      "Name: Sale (Dollars), dtype: bool\n"
     ]
    }
   ],
   "source": [
    "# Applying fns from above for a numeric var in iowa_liquor_prices\n",
    "col = iowa_liquor_prices[\"Sale (Dollars)\"]\n",
    "\n",
    "print(\"Five number summary:\", five_number_summary(col))\n",
    "print(\"IQR & whiskers:\", iqr_and_whiskers(col))\n",
    "print(\"Outliers (True = outlier):\")\n",
    "print(identify_outliers(col).head(5))  # preview first 5"
   ]
  },
  {
   "cell_type": "markdown",
   "id": "af5d31e6",
   "metadata": {},
   "source": [
    "Note that they are all false above bc the lower whisker is negative"
   ]
  },
  {
   "cell_type": "code",
   "execution_count": 13,
   "id": "a600c448",
   "metadata": {},
   "outputs": [
    {
     "data": {
      "image/png": "[encoded data removed]",
      "text/plain": [
       "<Figure size 640x480 with 1 Axes>"
      ]
     },
     "metadata": {},
     "output_type": "display_data"
    },
    {
     "name": "stdout",
     "output_type": "stream",
     "text": [
      "count    159904.000000\n",
      "mean        146.931598\n",
      "std         459.368723\n",
      "min       -1628.400000\n",
      "25%          36.550000\n",
      "50%          78.660000\n",
      "75%         152.880000\n",
      "max       36720.000000\n",
      "Name: Sale (Dollars), dtype: float64\n"
     ]
    }
   ],
   "source": [
    "# Comparing my answers with sns.boxplot and df.describe\n",
    "import seaborn as sns\n",
    "import matplotlib.pyplot as plt\n",
    "\n",
    "sns.boxplot(x=iowa_liquor_prices[\"Sale (Dollars)\"])\n",
    "plt.show()\n",
    "\n",
    "print(iowa_liquor_prices[\"Sale (Dollars)\"].describe())"
   ]
  },
  {
   "cell_type": "markdown",
   "id": "6c97ee6f",
   "metadata": {},
   "source": [
    "**Written answer of above:**\n",
    "\n",
    "**The boxplot of \"Sale (Dollars)\" from the dataset shows a highly skewed distribution. Most sales transactions are concentrated at low values, with the bulk of the data falling between $0 and $500, and the median is just under $200. The IQR is fairly narrow compared to the data, showing that half of the sales are clustered within a small range of lower values. However, the dataset contains a long right tail with lots of much larger transactions that go far beyond the upper whisker (which is $327), so they are shown as outliers on the plot. These outliers go as high as $36,700, which skew the distribution.**"
   ]
  }
 ],
 "metadata": {
  "kernelspec": {
   "display_name": "UU",
   "language": "python",
   "name": "python3"
  },
  "language_info": {
   "codemirror_mode": {
    "name": "ipython",
    "version": 3
   },
   "file_extension": ".py",
   "mimetype": "text/x-python",
   "name": "python",
   "nbconvert_exporter": "python",
   "pygments_lexer": "ipython3",
   "version": "3.11.13"
  }
 },
 "nbformat": 4,
 "nbformat_minor": 5
}
